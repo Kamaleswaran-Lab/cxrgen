{
 "cells": [
  {
   "cell_type": "code",
   "execution_count": 70,
   "id": "2787d1f8-800f-4583-9063-ffaeeae24f95",
   "metadata": {},
   "outputs": [],
   "source": [
    "import pandas as pd\n",
    "from pathlib import Path\n",
    "import os\n",
    "import sys\n",
    "import numpy as np"
   ]
  },
  {
   "cell_type": "code",
   "execution_count": 71,
   "id": "d724e67c-e86a-4e1d-b747-8c4793ba1585",
   "metadata": {},
   "outputs": [],
   "source": [
    "root = Path('/hpc/group/kamaleswaranlab/EmoryDataset/Images/chest_xrays')\n",
    "\n",
    "YEARS = [2015, 2016, 2017, 2018, 2019, 2020, 2021]\n",
    "images= \"extracted-images\"\n",
    "metadata = \"metadata_with_supertables.dsv\"\n"
   ]
  },
  {
   "cell_type": "markdown",
   "id": "a3b17dfc-a7cc-4a95-a5bb-e3800039c5ce",
   "metadata": {},
   "source": [
    "#### Combine meta data of all years"
   ]
  },
  {
   "cell_type": "code",
   "execution_count": 72,
   "id": "690752b9-0d0c-4099-b054-dc6f6e68e9ec",
   "metadata": {},
   "outputs": [
    {
     "name": "stdout",
     "output_type": "stream",
     "text": [
      "(261428, 28)\n"
     ]
    }
   ],
   "source": [
    "for i in range(len(YEARS)):\n",
    "    metadf_ = pd.read_csv(root / str(YEARS[i]) / metadata, sep = '|')\n",
    "    metadf_['year'] = [YEARS[i]]*len(metadf_) \n",
    "    if i > 0:\n",
    "        metadf = pd.concat((metadf, metadf_), axis = 0)\n",
    "    else:\n",
    "        metadf = metadf_.copy()\n",
    "\n",
    "print(metadf.shape)"
   ]
  },
  {
   "cell_type": "code",
   "execution_count": 73,
   "id": "99454014-1fc7-49b2-aba6-049fbc863d1f",
   "metadata": {},
   "outputs": [
    {
     "data": {
      "text/plain": [
       "array([2015, 2016, 2017, 2018, 2019, 2020, 2021])"
      ]
     },
     "execution_count": 73,
     "metadata": {},
     "output_type": "execute_result"
    }
   ],
   "source": [
    "metadf.year.unique()"
   ]
  },
  {
   "cell_type": "markdown",
   "id": "ec1dff05-3067-4208-b5d2-96bef2844589",
   "metadata": {},
   "source": [
    "#### Filter out accession numbers that are not matched to supertables. "
   ]
  },
  {
   "cell_type": "code",
   "execution_count": 74,
   "id": "f77a56d5-8c26-4acb-9eb2-4eee26d4cca3",
   "metadata": {},
   "outputs": [
    {
     "data": {
      "text/plain": [
       "np.float64(0.0029338861942867635)"
      ]
     },
     "execution_count": 74,
     "metadata": {},
     "output_type": "execute_result"
    }
   ],
   "source": [
    "metadf.supertable_path.isna().sum()/len(metadf) # Just 0.2% of the images, so not worth spending time debugging"
   ]
  },
  {
   "cell_type": "code",
   "execution_count": 75,
   "id": "effaa228-e390-4a64-922f-53b9f9859c3b",
   "metadata": {},
   "outputs": [],
   "source": [
    "metadfsups = metadf.loc[metadf.supertable_path.notna()]"
   ]
  },
  {
   "cell_type": "code",
   "execution_count": 76,
   "id": "eea28eec-c95c-44bb-94ba-4fd181496fcb",
   "metadata": {},
   "outputs": [],
   "source": [
    "metadfsups.to_csv(root / 'metadata_with_supertables_filtered.csv', index = False)"
   ]
  },
  {
   "cell_type": "markdown",
   "id": "452c726e-97c2-4afa-bbeb-14f9f609c556",
   "metadata": {},
   "source": [
    "#### Find all image paths"
   ]
  },
  {
   "cell_type": "code",
   "execution_count": 2,
   "id": "f0b33556-a274-4695-b76b-b869410be8b2",
   "metadata": {},
   "outputs": [],
   "source": [
    "def acc_to_path(root, year, accession_number, series_number):\n",
    "    return os.path.join(root, str(year), images,  f\"{accession_number}_{series_number}.png\")"
   ]
  },
  {
   "cell_type": "code",
   "execution_count": null,
   "id": "726eab12-f4c9-4277-970a-eb7d182ac22f",
   "metadata": {},
   "outputs": [],
   "source": []
  }
 ],
 "metadata": {
  "kernelspec": {
   "display_name": "(cxrgen)",
   "language": "python",
   "name": "cxrgen"
  },
  "language_info": {
   "codemirror_mode": {
    "name": "ipython",
    "version": 3
   },
   "file_extension": ".py",
   "mimetype": "text/x-python",
   "name": "python",
   "nbconvert_exporter": "python",
   "pygments_lexer": "ipython3",
   "version": "3.9.19"
  }
 },
 "nbformat": 4,
 "nbformat_minor": 5
}
