{
 "cells": [
  {
   "cell_type": "code",
   "execution_count": 4,
   "id": "2787d1f8-800f-4583-9063-ffaeeae24f95",
   "metadata": {},
   "outputs": [],
   "source": [
    "import pandas as pd\n",
    "from pathlib import Path\n",
    "import os\n",
    "import sys\n",
    "import numpy as np"
   ]
  },
  {
   "cell_type": "code",
   "execution_count": 5,
   "id": "d724e67c-e86a-4e1d-b747-8c4793ba1585",
   "metadata": {},
   "outputs": [],
   "source": [
    "root = Path('/hpc/group/kamaleswaranlab/EmoryDataset/Images/chest_xrays')\n",
    "\n",
    "YEARS = [2015, 2016, 2017, 2018, 2019, 2020, 2021]\n",
    "images= \"extracted-images\"\n",
    "metadata = \"metadata_with_supertables.dsv\"\n"
   ]
  },
  {
   "cell_type": "markdown",
   "id": "a3b17dfc-a7cc-4a95-a5bb-e3800039c5ce",
   "metadata": {},
   "source": [
    "#### Combine meta data of all years"
   ]
  },
  {
   "cell_type": "code",
   "execution_count": 72,
   "id": "690752b9-0d0c-4099-b054-dc6f6e68e9ec",
   "metadata": {},
   "outputs": [
    {
     "name": "stdout",
     "output_type": "stream",
     "text": [
      "(261428, 28)\n"
     ]
    }
   ],
   "source": [
    "for i in range(len(YEARS)):\n",
    "    metadf_ = pd.read_csv(root / str(YEARS[i]) / metadata, sep = '|')\n",
    "    metadf_['year'] = [YEARS[i]]*len(metadf_) \n",
    "    if i > 0:\n",
    "        metadf = pd.concat((metadf, metadf_), axis = 0)\n",
    "    else:\n",
    "        metadf = metadf_.copy()\n",
    "\n",
    "print(metadf.shape)"
   ]
  },
  {
   "cell_type": "code",
   "execution_count": 73,
   "id": "99454014-1fc7-49b2-aba6-049fbc863d1f",
   "metadata": {},
   "outputs": [
    {
     "data": {
      "text/plain": [
       "array([2015, 2016, 2017, 2018, 2019, 2020, 2021])"
      ]
     },
     "execution_count": 73,
     "metadata": {},
     "output_type": "execute_result"
    }
   ],
   "source": [
    "metadf.year.unique()"
   ]
  },
  {
   "cell_type": "markdown",
   "id": "ec1dff05-3067-4208-b5d2-96bef2844589",
   "metadata": {},
   "source": [
    "#### Filter out accession numbers that are not matched to supertables. "
   ]
  },
  {
   "cell_type": "code",
   "execution_count": 74,
   "id": "f77a56d5-8c26-4acb-9eb2-4eee26d4cca3",
   "metadata": {},
   "outputs": [
    {
     "data": {
      "text/plain": [
       "np.float64(0.0029338861942867635)"
      ]
     },
     "execution_count": 74,
     "metadata": {},
     "output_type": "execute_result"
    }
   ],
   "source": [
    "metadf.supertable_path.isna().sum()/len(metadf) # Just 0.2% of the images, so not worth spending time debugging"
   ]
  },
  {
   "cell_type": "code",
   "execution_count": 75,
   "id": "effaa228-e390-4a64-922f-53b9f9859c3b",
   "metadata": {},
   "outputs": [],
   "source": [
    "metadfsups = metadf.loc[metadf.supertable_path.notna()]"
   ]
  },
  {
   "cell_type": "code",
   "execution_count": 76,
   "id": "eea28eec-c95c-44bb-94ba-4fd181496fcb",
   "metadata": {},
   "outputs": [],
   "source": [
    "metadfsups.to_csv(root / 'metadata_with_supertables_filtered.csv', index = False)"
   ]
  },
  {
   "cell_type": "markdown",
   "id": "28426610-b710-492d-bdbe-090a5d15d062",
   "metadata": {},
   "source": [
    "### Notes"
   ]
  },
  {
   "cell_type": "code",
   "execution_count": 17,
   "id": "8db508c0-5716-4489-884a-5b328c2801fd",
   "metadata": {},
   "outputs": [
    {
     "name": "stderr",
     "output_type": "stream",
     "text": [
      "/tmp/ipykernel_1827307/3460263475.py:1: DtypeWarning: Columns (27) have mixed types. Specify dtype option on import or set low_memory=False.\n",
      "  metadf = pd.read_csv(root / 'metadata_with_supertables_filtered.csv')\n"
     ]
    }
   ],
   "source": [
    "metadf = pd.read_csv(root / 'metadata_with_supertables_filtered.csv')"
   ]
  },
  {
   "cell_type": "code",
   "execution_count": 26,
   "id": "fc809055-7a81-4cf9-9df0-e2368ee047a1",
   "metadata": {},
   "outputs": [],
   "source": [
    "notes_files = list(root.glob('IBJG_CXR_ACC_*'))\n",
    "\n",
    "notes1 = pd.read_csv(notes_files[0], sep = '|')\n",
    "notes2 = pd.read_csv(notes_files[1], sep = '|')\n",
    "notes = pd.concat((notes1, notes2), axis = 0)"
   ]
  },
  {
   "cell_type": "code",
   "execution_count": 29,
   "id": "7a8dd655-1319-4ff9-8cb4-ba6f9ad7acd5",
   "metadata": {},
   "outputs": [],
   "source": [
    "notes.to_csv(root / 'all_notes.csv')"
   ]
  },
  {
   "cell_type": "code",
   "execution_count": 30,
   "id": "2ae08409-f202-40b5-a064-968442da25eb",
   "metadata": {},
   "outputs": [
    {
     "data": {
      "text/plain": [
       "Index(['ACC_NBR', 'PATIENT_ID', 'EMPI_NBR', 'ENCNTR_ID',\n",
       "       'HNAM_DOCUMENT_CLINICAL_ID', 'HNAM_DOCUMENT_CLINICAL_NM',\n",
       "       'DAY_VERIFIED', 'DOC_TEXT', 'DOC_ABSTRACT', 'EVENT_DOCUMENT_DESC',\n",
       "       'EVENT_DOCUMENT_KEY'],\n",
       "      dtype='object')"
      ]
     },
     "execution_count": 30,
     "metadata": {},
     "output_type": "execute_result"
    }
   ],
   "source": [
    "notes.columns"
   ]
  },
  {
   "cell_type": "code",
   "execution_count": 43,
   "id": "32d19d7a-f7e1-47c5-bfd6-1c2332610ea2",
   "metadata": {},
   "outputs": [],
   "source": [
    "metadf = metadf.loc[metadf.AccessionNumber.isin(notes.ACC_NBR)]"
   ]
  },
  {
   "cell_type": "code",
   "execution_count": 44,
   "id": "5583d18c-6dfb-434c-85ed-096cb284bf57",
   "metadata": {},
   "outputs": [],
   "source": [
    "metadf.to_csv( root / 'metadata_with_supertables_filtered_notes_filtered.csv', index = False)"
   ]
  },
  {
   "cell_type": "code",
   "execution_count": null,
   "id": "97dfc3f8-b162-4f0b-9733-89e9d116f7f3",
   "metadata": {},
   "outputs": [],
   "source": []
  }
 ],
 "metadata": {
  "kernelspec": {
   "display_name": "(cxrgen)",
   "language": "python",
   "name": "cxrgen"
  },
  "language_info": {
   "codemirror_mode": {
    "name": "ipython",
    "version": 3
   },
   "file_extension": ".py",
   "mimetype": "text/x-python",
   "name": "python",
   "nbconvert_exporter": "python",
   "pygments_lexer": "ipython3",
   "version": "3.9.19"
  }
 },
 "nbformat": 4,
 "nbformat_minor": 5
}
