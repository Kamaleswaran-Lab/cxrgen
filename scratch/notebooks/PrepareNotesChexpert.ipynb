{
 "cells": [
  {
   "cell_type": "code",
   "execution_count": 58,
   "id": "9ff53ca2-bd67-424d-a268-38aa1e9f0d0f",
   "metadata": {},
   "outputs": [],
   "source": [
    "import pandas as pd\n",
    "import numpy as np\n",
    "import pandas as pd\n",
    "from pathlib import Path\n",
    "import os\n",
    "import sys\n",
    "import numpy as np\n",
    "import matplotlib.pyplot as plt\n",
    "import PIL"
   ]
  },
  {
   "cell_type": "code",
   "execution_count": 59,
   "id": "c1558f6e-94c9-4c9f-a2ea-ea43ab9d3207",
   "metadata": {},
   "outputs": [],
   "source": [
    "root = Path('/hpc/group/kamaleswaranlab/EmoryDataset/Images/chest_xrays')\n",
    "\n",
    "YEARS = [2015, 2016, 2017, 2018, 2019, 2020, 2021]\n",
    "image_dir = \"extracted-images\"\n",
    "metadata = \"metadata_with_supertables_filtered_notes_filtered_matching_times_min_series_img_paths_datetime_hashed.csv\"\n",
    "notes = \"all_notes.csv\""
   ]
  },
  {
   "cell_type": "code",
   "execution_count": 60,
   "id": "237fd25e-4deb-487c-85e4-3274ab320f84",
   "metadata": {},
   "outputs": [
    {
     "name": "stderr",
     "output_type": "stream",
     "text": [
      "/tmp/ipykernel_3140846/3106802520.py:1: DtypeWarning: Columns (9) have mixed types. Specify dtype option on import or set low_memory=False.\n",
      "  notesdf = pd.read_csv(root / notes)\n"
     ]
    }
   ],
   "source": [
    "notesdf = pd.read_csv(root / notes)"
   ]
  },
  {
   "cell_type": "code",
   "execution_count": 61,
   "id": "30e15559-73f5-43c2-994c-b6198e2cdb76",
   "metadata": {},
   "outputs": [],
   "source": [
    "long_data = root / 'longitudinal_data_corrected'\n",
    "embeddings_dir = long_data / 'image_embeddings'\n",
    "ehr_dir = long_data / 'ehr_matrices'\n",
    "notes_dir = long_data / 'notes'\n"
   ]
  },
  {
   "cell_type": "code",
   "execution_count": 62,
   "id": "b86528b7-a825-48a0-9f3e-ef8925585305",
   "metadata": {},
   "outputs": [
    {
     "name": "stdout",
     "output_type": "stream",
     "text": [
      "17690\n"
     ]
    }
   ],
   "source": [
    "encounters = list(ehr_dir.glob(\"*.npy\"))\n",
    "print(len(encounters))"
   ]
  },
  {
   "cell_type": "markdown",
   "id": "d7367ecd-ca25-4c94-bcd0-6190ed6204db",
   "metadata": {},
   "source": [
    "### Prepare Notes for input to chexpert"
   ]
  },
  {
   "cell_type": "code",
   "execution_count": 45,
   "id": "2be38e52-5851-4773-89b6-1d9d3a37ca11",
   "metadata": {},
   "outputs": [],
   "source": [
    "selected_accs = []\n",
    "for i in range(len(encounters)):\n",
    "    supertable_path = root / 'matched_supertables_with_images' / f\"{str(encounters[i].stem).split('_')[0]}_image_interpolated.pickle\"\n",
    "    df = pd.read_pickle(supertable_path)\n",
    "    acc_numbers = [x.split('_')[0] for x in df.loc[df['cxr_timing'].notna(), 'cxr_timing'].unique()]\n",
    "    selected_accs.extend(acc_numbers)\n",
    "    \n",
    "np.save('selected_accs.npy', np.array(selected_accs))"
   ]
  },
  {
   "cell_type": "code",
   "execution_count": 48,
   "id": "e4282348-77d0-48fa-8436-d0ef4e6b8709",
   "metadata": {},
   "outputs": [],
   "source": [
    "notesdf_selected = notesdf.loc[notesdf.ACC_NBR.isin(selected_accs)]\n",
    "notesdf_selected.to_csv(notes_dir / 'notes.csv', index = False)"
   ]
  },
  {
   "cell_type": "code",
   "execution_count": 47,
   "id": "f4471112-6409-407b-9bdf-49992c7ebcb0",
   "metadata": {},
   "outputs": [
    {
     "data": {
      "text/plain": [
       "82449"
      ]
     },
     "execution_count": 47,
     "metadata": {},
     "output_type": "execute_result"
    }
   ],
   "source": [
    "len(selected_accs)"
   ]
  },
  {
   "cell_type": "code",
   "execution_count": 49,
   "id": "431024a8-05f4-4c16-b8c8-9663b9e5c08d",
   "metadata": {},
   "outputs": [
    {
     "data": {
      "text/plain": [
       "(86261, 12)"
      ]
     },
     "execution_count": 49,
     "metadata": {},
     "output_type": "execute_result"
    }
   ],
   "source": [
    "notesdf_selected.shape"
   ]
  },
  {
   "cell_type": "code",
   "execution_count": 52,
   "id": "0db89346-5142-4fe6-a589-97ef559e7c66",
   "metadata": {},
   "outputs": [],
   "source": [
    "notesdf_selected['DOC_TEXT'].to_csv(notes_dir / 'chexpert_notes.csv')"
   ]
  },
  {
   "cell_type": "code",
   "execution_count": 55,
   "id": "fd99e3b0-335b-416f-886f-a6ef83f15116",
   "metadata": {},
   "outputs": [],
   "source": [
    "notesdf_selected.loc[notesdf_selected['DOC_TEXT'].notna()]['DOC_TEXT'].to_csv(notes_dir / 'chexpert_notes_notna.csv')"
   ]
  },
  {
   "cell_type": "code",
   "execution_count": 56,
   "id": "88055126-66e1-44d1-b138-a1e49b4fddb8",
   "metadata": {},
   "outputs": [],
   "source": [
    "num_chunks = 10\n",
    "chunk_size = len(notesdf_selected) // num_chunks\n",
    "remainder = len(notesdf_selected) % num_chunks\n",
    "\n",
    "# Create chunks\n",
    "chunks = []\n",
    "start_idx = 0\n",
    "\n",
    "for i in range(num_chunks):\n",
    "    # Add one extra row to some chunks if the data doesn't divide evenly\n",
    "    end_idx = start_idx + chunk_size + (1 if i < remainder else 0)\n",
    "    chunk = notesdf_selected.iloc[start_idx:end_idx]\n",
    "    chunk.loc[chunk['DOC_TEXT'].notna()]['DOC_TEXT'].to_csv(notes_dir / f'chexpert_notes_notna_{i}.csv')\n",
    "    start_idx = end_idx"
   ]
  },
  {
   "cell_type": "code",
   "execution_count": 57,
   "id": "bca44c5b-096e-489f-974b-dff116cccbe7",
   "metadata": {},
   "outputs": [
    {
     "data": {
      "text/plain": [
       "['chexpert_notes_notna_1.csv',\n",
       " 'chexpert_notes_notna.csv',\n",
       " 'chexpert_notes_notna_9.csv',\n",
       " 'chexpert_notes.csv',\n",
       " 'chexpert_notes_notna_3.csv',\n",
       " 'chexpert_notes_notna_6.csv',\n",
       " 'chexpert_notes_notna_7.csv',\n",
       " 'chexpert_notes_notna_2.csv',\n",
       " 'chexpert_notes_notna_4.csv',\n",
       " 'chexpert_notes_notna_0.csv',\n",
       " 'chexpert_notes_notna_8.csv',\n",
       " 'notes.csv',\n",
       " 'chexpert_notes_notna_5.csv']"
      ]
     },
     "execution_count": 57,
     "metadata": {},
     "output_type": "execute_result"
    }
   ],
   "source": [
    "os.listdir(notes_dir)"
   ]
  },
  {
   "cell_type": "markdown",
   "id": "d8ee7248-ee66-4631-b10a-c98b141f8210",
   "metadata": {},
   "source": [
    "### Match chexpert labels "
   ]
  },
  {
   "cell_type": "code",
   "execution_count": 63,
   "id": "ba1416e9-50aa-42be-8335-975bd816b4fb",
   "metadata": {},
   "outputs": [
    {
     "name": "stderr",
     "output_type": "stream",
     "text": [
      "/tmp/ipykernel_3140846/3568618433.py:1: DtypeWarning: Columns (9) have mixed types. Specify dtype option on import or set low_memory=False.\n",
      "  notes = pd.read_csv(notes_dir / 'notes.csv')\n"
     ]
    }
   ],
   "source": [
    "notes = pd.read_csv(notes_dir / 'notes.csv')\n",
    "chexpert_notes = pd.read_csv(notes_dir / 'chexpert_notes_notna.csv')\n"
   ]
  },
  {
   "cell_type": "code",
   "execution_count": 65,
   "id": "e534b4b2-e75c-4d75-95e3-029801f4bfd3",
   "metadata": {},
   "outputs": [
    {
     "data": {
      "text/plain": [
       "((85677, 2), (86261, 12))"
      ]
     },
     "execution_count": 65,
     "metadata": {},
     "output_type": "execute_result"
    }
   ],
   "source": [
    "chexpert_notes.shape, notes.shape"
   ]
  },
  {
   "cell_type": "code",
   "execution_count": 74,
   "id": "30933040-9019-4be7-a022-d3cf09187dfb",
   "metadata": {},
   "outputs": [
    {
     "data": {
      "text/plain": [
       "(85687, 15)"
      ]
     },
     "execution_count": 74,
     "metadata": {},
     "output_type": "execute_result"
    }
   ],
   "source": [
    "labelsdf = pd.DataFrame()\n",
    "\n",
    "for i in range(10):\n",
    "    chunk = pd.read_csv(notes_dir / f'emory_labels_{i}.csv')\n",
    "    labelsdf = pd.concat((labelsdf, chunk))\n",
    "    \n",
    "labelsdf.shape"
   ]
  },
  {
   "cell_type": "code",
   "execution_count": 75,
   "id": "049cef68-db1f-453e-9fed-7eecc984c6c1",
   "metadata": {},
   "outputs": [],
   "source": [
    "labelsdf = labelsdf.loc[labelsdf['Reports'] != 'DOC_TEXT']"
   ]
  },
  {
   "cell_type": "code",
   "execution_count": 77,
   "id": "cc1a3480-4a3f-4dca-87a3-6e778d4647d8",
   "metadata": {},
   "outputs": [
    {
     "data": {
      "text/plain": [
       "True"
      ]
     },
     "execution_count": 77,
     "metadata": {},
     "output_type": "execute_result"
    }
   ],
   "source": [
    "chexpert_notes.iloc[0]['DOC_TEXT'] == labelsdf.iloc[0]['Reports']"
   ]
  },
  {
   "cell_type": "code",
   "execution_count": 80,
   "id": "8768d604-bce1-420b-b06f-6db03d37fdd6",
   "metadata": {},
   "outputs": [],
   "source": [
    "notes = notes.loc[notes.DOC_TEXT.notna()]"
   ]
  },
  {
   "cell_type": "code",
   "execution_count": 84,
   "id": "8e069705-8b9c-4bf6-b3dd-958ac4e34fb1",
   "metadata": {},
   "outputs": [],
   "source": [
    "notes_with_labels = notes.copy()\n",
    "\n",
    "for column in labelsdf.columns:\n",
    "    notes_with_labels[column] = labelsdf[column].values"
   ]
  },
  {
   "cell_type": "code",
   "execution_count": 85,
   "id": "374261ac-5343-4a56-86ec-0898f820edcf",
   "metadata": {},
   "outputs": [
    {
     "data": {
      "text/plain": [
       "(85677, 27)"
      ]
     },
     "execution_count": 85,
     "metadata": {},
     "output_type": "execute_result"
    }
   ],
   "source": [
    "notes_with_labels.shape"
   ]
  },
  {
   "cell_type": "code",
   "execution_count": 86,
   "id": "a1b195ac-4515-48ae-a9fd-51e7ff4cfbda",
   "metadata": {},
   "outputs": [
    {
     "data": {
      "text/html": [
       "<div>\n",
       "<style scoped>\n",
       "    .dataframe tbody tr th:only-of-type {\n",
       "        vertical-align: middle;\n",
       "    }\n",
       "\n",
       "    .dataframe tbody tr th {\n",
       "        vertical-align: top;\n",
       "    }\n",
       "\n",
       "    .dataframe thead th {\n",
       "        text-align: right;\n",
       "    }\n",
       "</style>\n",
       "<table border=\"1\" class=\"dataframe\">\n",
       "  <thead>\n",
       "    <tr style=\"text-align: right;\">\n",
       "      <th></th>\n",
       "      <th>Unnamed: 0</th>\n",
       "      <th>ACC_NBR</th>\n",
       "      <th>PATIENT_ID</th>\n",
       "      <th>EMPI_NBR</th>\n",
       "      <th>ENCNTR_ID</th>\n",
       "      <th>HNAM_DOCUMENT_CLINICAL_ID</th>\n",
       "      <th>HNAM_DOCUMENT_CLINICAL_NM</th>\n",
       "      <th>DAY_VERIFIED</th>\n",
       "      <th>DOC_TEXT</th>\n",
       "      <th>DOC_ABSTRACT</th>\n",
       "      <th>...</th>\n",
       "      <th>Lung Opacity</th>\n",
       "      <th>Edema</th>\n",
       "      <th>Consolidation</th>\n",
       "      <th>Pneumonia</th>\n",
       "      <th>Atelectasis</th>\n",
       "      <th>Pneumothorax</th>\n",
       "      <th>Pleural Effusion</th>\n",
       "      <th>Pleural Other</th>\n",
       "      <th>Fracture</th>\n",
       "      <th>Support Devices</th>\n",
       "    </tr>\n",
       "  </thead>\n",
       "  <tbody>\n",
       "    <tr>\n",
       "      <th>0</th>\n",
       "      <td>60</td>\n",
       "      <td>2ed913e36727cd2fb59b7517d3b869b0228a615946c66e...</td>\n",
       "      <td>7f8076f1d64d54d3a2b08249526c1a0bd258264cccf274...</td>\n",
       "      <td>e0a020ae329369e5eeeb3edd22233e026112f53b4c237e...</td>\n",
       "      <td>883bf58480c3fb3c4555ddfa39a25acb31c9feee74bd9f...</td>\n",
       "      <td>32f51dc7f9e8d3674ca812cdb65c182d3265a827f88a80...</td>\n",
       "      <td>XR Chest 1 View Portable</td>\n",
       "      <td>04/27/2015</td>\n",
       "      <td>REPORT\\r\\rXR Chest 1 View Portable\\n\\nCLINICAL...</td>\n",
       "      <td>REPORT\\r\\rXR Chest 1 View Portable\\n\\nCLINICAL...</td>\n",
       "      <td>...</td>\n",
       "      <td>NaN</td>\n",
       "      <td>-1.0</td>\n",
       "      <td>NaN</td>\n",
       "      <td>NaN</td>\n",
       "      <td>1.0</td>\n",
       "      <td>0.0</td>\n",
       "      <td>NaN</td>\n",
       "      <td>NaN</td>\n",
       "      <td>NaN</td>\n",
       "      <td>1.0</td>\n",
       "    </tr>\n",
       "    <tr>\n",
       "      <th>1</th>\n",
       "      <td>63</td>\n",
       "      <td>7504d98282e19a4b7e7c5732523df7ede45c023125ffa4...</td>\n",
       "      <td>ec5356a6d22170a0da2be1932605833d72af5edf490a4a...</td>\n",
       "      <td>7edef2789d193cfeb73a668a8b59d87be7bc09b23d86bf...</td>\n",
       "      <td>e31bde44347cfb99afda94d362b2c7efc43bfa0d45fd6d...</td>\n",
       "      <td>32f51dc7f9e8d3674ca812cdb65c182d3265a827f88a80...</td>\n",
       "      <td>XR Chest 1 View Portable</td>\n",
       "      <td>04/27/2015</td>\n",
       "      <td>REPORT\\r\\rXR Chest 1 View Portable\\n\\nCLINICAL...</td>\n",
       "      <td>REPORT\\r\\rXR Chest 1 View Portable\\n\\nCLINICAL...</td>\n",
       "      <td>...</td>\n",
       "      <td>NaN</td>\n",
       "      <td>0.0</td>\n",
       "      <td>0.0</td>\n",
       "      <td>NaN</td>\n",
       "      <td>NaN</td>\n",
       "      <td>0.0</td>\n",
       "      <td>0.0</td>\n",
       "      <td>NaN</td>\n",
       "      <td>NaN</td>\n",
       "      <td>1.0</td>\n",
       "    </tr>\n",
       "    <tr>\n",
       "      <th>2</th>\n",
       "      <td>66</td>\n",
       "      <td>12d9bedb7e6fd0dcd41cd5bb76d76a287320cb17ebfbcd...</td>\n",
       "      <td>e424cb68d8f7d89095794f5b532ac0e9bc04f79bffcc2e...</td>\n",
       "      <td>0ebbec75d56effeb6f7f94f089e8e4cb500b7734489e03...</td>\n",
       "      <td>111f1384ccca3639056306f3145e58855d36ddb47ff698...</td>\n",
       "      <td>32f51dc7f9e8d3674ca812cdb65c182d3265a827f88a80...</td>\n",
       "      <td>XR Chest 1 View Portable</td>\n",
       "      <td>04/27/2015</td>\n",
       "      <td>REPORT\\r\\rXR Chest 1 View Portable\\n\\nCLINICAL...</td>\n",
       "      <td>REPORT\\r\\rXR Chest 1 View Portable\\n\\nCLINICAL...</td>\n",
       "      <td>...</td>\n",
       "      <td>1.0</td>\n",
       "      <td>NaN</td>\n",
       "      <td>NaN</td>\n",
       "      <td>-1.0</td>\n",
       "      <td>NaN</td>\n",
       "      <td>0.0</td>\n",
       "      <td>NaN</td>\n",
       "      <td>NaN</td>\n",
       "      <td>NaN</td>\n",
       "      <td>NaN</td>\n",
       "    </tr>\n",
       "    <tr>\n",
       "      <th>3</th>\n",
       "      <td>68</td>\n",
       "      <td>3ffae3bed0a25f6cba0a464e4dd7868ec4778e7dec4e6b...</td>\n",
       "      <td>3a4eb780db0ec2e991adc837320c5a9fcbdd4594845586...</td>\n",
       "      <td>c60a8d613ed473ebe37e3c3898d38abc8db41880cfd2f9...</td>\n",
       "      <td>bbdc13b41601ba68cd59fecb8afed3e138304f354f49cd...</td>\n",
       "      <td>32f51dc7f9e8d3674ca812cdb65c182d3265a827f88a80...</td>\n",
       "      <td>XR Chest 1 View Portable</td>\n",
       "      <td>04/27/2015</td>\n",
       "      <td>REPORT\\r\\rXR Chest 1 View Portable\\n\\nCLINICAL...</td>\n",
       "      <td>REPORT\\r\\rXR Chest 1 View Portable\\n\\nCLINICAL...</td>\n",
       "      <td>...</td>\n",
       "      <td>NaN</td>\n",
       "      <td>NaN</td>\n",
       "      <td>NaN</td>\n",
       "      <td>NaN</td>\n",
       "      <td>1.0</td>\n",
       "      <td>1.0</td>\n",
       "      <td>NaN</td>\n",
       "      <td>NaN</td>\n",
       "      <td>NaN</td>\n",
       "      <td>1.0</td>\n",
       "    </tr>\n",
       "    <tr>\n",
       "      <th>4</th>\n",
       "      <td>73</td>\n",
       "      <td>c0fff3fc49fccd86b762d1657d7b95f9b69e556d8484ac...</td>\n",
       "      <td>22862ca8eed3091de4b45e5b1d54c41babefc3e3544c05...</td>\n",
       "      <td>a5bafb16270c0ff18a001ffa6e383e0b318107c30f495b...</td>\n",
       "      <td>2e726c5c77743ebf1c6d2b6c5902d2e698bc824fd70295...</td>\n",
       "      <td>32f51dc7f9e8d3674ca812cdb65c182d3265a827f88a80...</td>\n",
       "      <td>XR Chest 1 View Portable</td>\n",
       "      <td>04/27/2015</td>\n",
       "      <td>REPORT\\r\\rXR Chest 1 View Portable\\n\\nCLINICAL...</td>\n",
       "      <td>REPORT\\r\\rXR Chest 1 View Portable\\n\\nCLINICAL...</td>\n",
       "      <td>...</td>\n",
       "      <td>NaN</td>\n",
       "      <td>NaN</td>\n",
       "      <td>NaN</td>\n",
       "      <td>NaN</td>\n",
       "      <td>1.0</td>\n",
       "      <td>0.0</td>\n",
       "      <td>1.0</td>\n",
       "      <td>NaN</td>\n",
       "      <td>NaN</td>\n",
       "      <td>NaN</td>\n",
       "    </tr>\n",
       "  </tbody>\n",
       "</table>\n",
       "<p>5 rows × 27 columns</p>\n",
       "</div>"
      ],
      "text/plain": [
       "   Unnamed: 0                                            ACC_NBR  \\\n",
       "0          60  2ed913e36727cd2fb59b7517d3b869b0228a615946c66e...   \n",
       "1          63  7504d98282e19a4b7e7c5732523df7ede45c023125ffa4...   \n",
       "2          66  12d9bedb7e6fd0dcd41cd5bb76d76a287320cb17ebfbcd...   \n",
       "3          68  3ffae3bed0a25f6cba0a464e4dd7868ec4778e7dec4e6b...   \n",
       "4          73  c0fff3fc49fccd86b762d1657d7b95f9b69e556d8484ac...   \n",
       "\n",
       "                                          PATIENT_ID  \\\n",
       "0  7f8076f1d64d54d3a2b08249526c1a0bd258264cccf274...   \n",
       "1  ec5356a6d22170a0da2be1932605833d72af5edf490a4a...   \n",
       "2  e424cb68d8f7d89095794f5b532ac0e9bc04f79bffcc2e...   \n",
       "3  3a4eb780db0ec2e991adc837320c5a9fcbdd4594845586...   \n",
       "4  22862ca8eed3091de4b45e5b1d54c41babefc3e3544c05...   \n",
       "\n",
       "                                            EMPI_NBR  \\\n",
       "0  e0a020ae329369e5eeeb3edd22233e026112f53b4c237e...   \n",
       "1  7edef2789d193cfeb73a668a8b59d87be7bc09b23d86bf...   \n",
       "2  0ebbec75d56effeb6f7f94f089e8e4cb500b7734489e03...   \n",
       "3  c60a8d613ed473ebe37e3c3898d38abc8db41880cfd2f9...   \n",
       "4  a5bafb16270c0ff18a001ffa6e383e0b318107c30f495b...   \n",
       "\n",
       "                                           ENCNTR_ID  \\\n",
       "0  883bf58480c3fb3c4555ddfa39a25acb31c9feee74bd9f...   \n",
       "1  e31bde44347cfb99afda94d362b2c7efc43bfa0d45fd6d...   \n",
       "2  111f1384ccca3639056306f3145e58855d36ddb47ff698...   \n",
       "3  bbdc13b41601ba68cd59fecb8afed3e138304f354f49cd...   \n",
       "4  2e726c5c77743ebf1c6d2b6c5902d2e698bc824fd70295...   \n",
       "\n",
       "                           HNAM_DOCUMENT_CLINICAL_ID  \\\n",
       "0  32f51dc7f9e8d3674ca812cdb65c182d3265a827f88a80...   \n",
       "1  32f51dc7f9e8d3674ca812cdb65c182d3265a827f88a80...   \n",
       "2  32f51dc7f9e8d3674ca812cdb65c182d3265a827f88a80...   \n",
       "3  32f51dc7f9e8d3674ca812cdb65c182d3265a827f88a80...   \n",
       "4  32f51dc7f9e8d3674ca812cdb65c182d3265a827f88a80...   \n",
       "\n",
       "  HNAM_DOCUMENT_CLINICAL_NM DAY_VERIFIED  \\\n",
       "0  XR Chest 1 View Portable   04/27/2015   \n",
       "1  XR Chest 1 View Portable   04/27/2015   \n",
       "2  XR Chest 1 View Portable   04/27/2015   \n",
       "3  XR Chest 1 View Portable   04/27/2015   \n",
       "4  XR Chest 1 View Portable   04/27/2015   \n",
       "\n",
       "                                            DOC_TEXT  \\\n",
       "0  REPORT\\r\\rXR Chest 1 View Portable\\n\\nCLINICAL...   \n",
       "1  REPORT\\r\\rXR Chest 1 View Portable\\n\\nCLINICAL...   \n",
       "2  REPORT\\r\\rXR Chest 1 View Portable\\n\\nCLINICAL...   \n",
       "3  REPORT\\r\\rXR Chest 1 View Portable\\n\\nCLINICAL...   \n",
       "4  REPORT\\r\\rXR Chest 1 View Portable\\n\\nCLINICAL...   \n",
       "\n",
       "                                        DOC_ABSTRACT  ... Lung Opacity  Edema  \\\n",
       "0  REPORT\\r\\rXR Chest 1 View Portable\\n\\nCLINICAL...  ...          NaN   -1.0   \n",
       "1  REPORT\\r\\rXR Chest 1 View Portable\\n\\nCLINICAL...  ...          NaN    0.0   \n",
       "2  REPORT\\r\\rXR Chest 1 View Portable\\n\\nCLINICAL...  ...          1.0    NaN   \n",
       "3  REPORT\\r\\rXR Chest 1 View Portable\\n\\nCLINICAL...  ...          NaN    NaN   \n",
       "4  REPORT\\r\\rXR Chest 1 View Portable\\n\\nCLINICAL...  ...          NaN    NaN   \n",
       "\n",
       "  Consolidation  Pneumonia  Atelectasis  Pneumothorax  Pleural Effusion  \\\n",
       "0           NaN        NaN          1.0           0.0               NaN   \n",
       "1           0.0        NaN          NaN           0.0               0.0   \n",
       "2           NaN       -1.0          NaN           0.0               NaN   \n",
       "3           NaN        NaN          1.0           1.0               NaN   \n",
       "4           NaN        NaN          1.0           0.0               1.0   \n",
       "\n",
       "   Pleural Other  Fracture  Support Devices  \n",
       "0            NaN       NaN              1.0  \n",
       "1            NaN       NaN              1.0  \n",
       "2            NaN       NaN              NaN  \n",
       "3            NaN       NaN              1.0  \n",
       "4            NaN       NaN              NaN  \n",
       "\n",
       "[5 rows x 27 columns]"
      ]
     },
     "execution_count": 86,
     "metadata": {},
     "output_type": "execute_result"
    }
   ],
   "source": [
    "notes_with_labels.head()"
   ]
  },
  {
   "cell_type": "code",
   "execution_count": 88,
   "id": "836d883f-277d-4cce-b202-ef02920b5df4",
   "metadata": {},
   "outputs": [],
   "source": [
    "## Sanity Check\n",
    "\n",
    "for idx, row in notes_with_labels.iterrows():\n",
    "    if row['DOC_TEXT'] != row['Reports']:\n",
    "        print(idx)"
   ]
  },
  {
   "cell_type": "code",
   "execution_count": 90,
   "id": "0019137d-7875-439e-b37c-6357919282b9",
   "metadata": {},
   "outputs": [],
   "source": [
    "notes_with_labels.to_csv(notes_dir / 'notes_with_chexpert_labels.csv', index = False)"
   ]
  },
  {
   "cell_type": "code",
   "execution_count": null,
   "id": "043a6771-d5f8-4d65-a3a8-d8458f50f792",
   "metadata": {},
   "outputs": [],
   "source": []
  }
 ],
 "metadata": {
  "kernelspec": {
   "display_name": "Python(torch)",
   "language": "python",
   "name": "torch"
  },
  "language_info": {
   "codemirror_mode": {
    "name": "ipython",
    "version": 3
   },
   "file_extension": ".py",
   "mimetype": "text/x-python",
   "name": "python",
   "nbconvert_exporter": "python",
   "pygments_lexer": "ipython3",
   "version": "3.9.19"
  }
 },
 "nbformat": 4,
 "nbformat_minor": 5
}
